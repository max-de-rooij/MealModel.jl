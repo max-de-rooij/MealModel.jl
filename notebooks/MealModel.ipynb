{
 "cells": [
  {
   "cell_type": "code",
   "execution_count": 3,
   "metadata": {},
   "outputs": [],
   "source": [
    "using MealModel"
   ]
  },
  {
   "cell_type": "code",
   "execution_count": 5,
   "metadata": {},
   "outputs": [
    {
     "data": {
      "text/plain": [
       "MixedMealModel(SciMLBase.ODEProblem{Vector{Float64}, Tuple{Float64, Float64}, true, Vector{Float64}, SciMLBase.ODEFunction{true, SciMLBase.FullSpecialize, MealModel.var\"#3#4\"{Float64, Float64, Float64, Float64, Float64, Float64, Float64}, LinearAlgebra.UniformScaling{Bool}, Nothing, Nothing, Nothing, Nothing, Nothing, Nothing, Nothing, Nothing, Nothing, Nothing, Nothing, Nothing, Nothing, Nothing, typeof(SciMLBase.DEFAULT_OBSERVED), Nothing, Nothing}, Base.Pairs{Symbol, SciMLSensitivity.ForwardDiffSensitivity{0, nothing}, Tuple{Symbol}, NamedTuple{(:sensealg,), Tuple{SciMLSensitivity.ForwardDiffSensitivity{0, nothing}}}}, SciMLBase.StandardODEProblem}(SciMLBase.ODEFunction{true, SciMLBase.FullSpecialize, MealModel.var\"#3#4\"{Float64, Float64, Float64, Float64, Float64, Float64, Float64}, LinearAlgebra.UniformScaling{Bool}, Nothing, Nothing, Nothing, Nothing, Nothing, Nothing, Nothing, Nothing, Nothing, Nothing, Nothing, Nothing, Nothing, Nothing, typeof(SciMLBase.DEFAULT_OBSERVED), Nothing, Nothing}(MealModel.var\"#3#4\"{Float64, Float64, Float64, Float64, Float64, Float64, Float64}(0.1, 9.0, 3.0, 31.0, 1.0, 0.00113, 0.005551), LinearAlgebra.UniformScaling{Bool}(true), nothing, nothing, nothing, nothing, nothing, nothing, nothing, nothing, nothing, nothing, nothing, nothing, nothing, nothing, SciMLBase.DEFAULT_OBSERVED, nothing, nothing), [0.0, 5.0, 0.0, 18.0, 0.0, 18.0, 18.0, 18.0, 0.33, 0.0, 0.0, 0.0, 1.3], (0.0, 480.0), [0.0105, 0.28, 0.00607, 0.000235, 0.0424, 2.2975, 1.15, 7.27, 0.0383, 0.284  …  0.0385, 0.0713, 208.88, 0.0088, 0.0163, 1.0e-5, 0.0119, 75000.0, 60000.0, 84.2], Base.Pairs(:sensealg => SciMLSensitivity.ForwardDiffSensitivity{0, nothing}()), SciMLBase.StandardODEProblem()), [1, 5, 6, 17, 20, 21, 23, 25])"
      ]
     },
     "metadata": {},
     "output_type": "display_data"
    }
   ],
   "source": [
    "model = MixedMealModel()"
   ]
  }
 ],
 "metadata": {
  "kernelspec": {
   "display_name": "Julia 1.9.3",
   "language": "julia",
   "name": "julia-1.9"
  },
  "language_info": {
   "file_extension": ".jl",
   "mimetype": "application/julia",
   "name": "julia",
   "version": "1.9.3"
  }
 },
 "nbformat": 4,
 "nbformat_minor": 2
}
